{
  "nbformat": 4,
  "nbformat_minor": 0,
  "metadata": {
    "colab": {
      "name": "FashionMNIST SVM and NB.ipynb",
      "provenance": [],
      "collapsed_sections": [],
      "include_colab_link": true
    },
    "kernelspec": {
      "name": "python3",
      "display_name": "Python 3"
    },
    "accelerator": "TPU"
  },
  "cells": [
    {
      "cell_type": "markdown",
      "metadata": {
        "id": "view-in-github",
        "colab_type": "text"
      },
      "source": [
        "<a href=\"https://colab.research.google.com/github/mohuzi/CS447Project/blob/master/FashionMNIST_SVM_and_NB.ipynb\" target=\"_parent\"><img src=\"https://colab.research.google.com/assets/colab-badge.svg\" alt=\"Open In Colab\"/></a>"
      ]
    },
    {
      "cell_type": "code",
      "metadata": {
        "id": "xW_UROKnSvME",
        "colab_type": "code",
        "colab": {}
      },
      "source": [
        "import numpy as np\n",
        "import pandas as pd\n",
        "import seaborn as sns\n",
        "import matplotlib.pyplot as plt\n",
        "from sklearn.model_selection import train_test_split\n",
        "import time\n",
        "\n",
        "from sklearn.preprocessing import MinMaxScaler\n",
        "from sklearn.metrics import classification_report\n",
        "from sklearn.metrics import precision_recall_fscore_support\n"
      ],
      "execution_count": 0,
      "outputs": []
    },
    {
      "cell_type": "code",
      "metadata": {
        "id": "Rb7b5avv9qm_",
        "colab_type": "code",
        "outputId": "36bcdc2e-9235-4844-a3ad-a95807cc196f",
        "colab": {
          "base_uri": "https://localhost:8080/",
          "height": 170
        }
      },
      "source": [
        "from keras.datasets import fashion_mnist\n",
        "((X_train, y_train), (X_test, y_test)) = fashion_mnist.load_data()\n",
        "X_train,X_val,y_train,y_val = train_test_split(X_train,y_train,test_size=0.2,random_state=0)"
      ],
      "execution_count": 2,
      "outputs": [
        {
          "output_type": "stream",
          "text": [
            "Using TensorFlow backend.\n"
          ],
          "name": "stderr"
        },
        {
          "output_type": "stream",
          "text": [
            "Downloading data from http://fashion-mnist.s3-website.eu-central-1.amazonaws.com/train-labels-idx1-ubyte.gz\n",
            "32768/29515 [=================================] - 0s 3us/step\n",
            "Downloading data from http://fashion-mnist.s3-website.eu-central-1.amazonaws.com/train-images-idx3-ubyte.gz\n",
            "26427392/26421880 [==============================] - 2s 0us/step\n",
            "Downloading data from http://fashion-mnist.s3-website.eu-central-1.amazonaws.com/t10k-labels-idx1-ubyte.gz\n",
            "8192/5148 [===============================================] - 0s 0us/step\n",
            "Downloading data from http://fashion-mnist.s3-website.eu-central-1.amazonaws.com/t10k-images-idx3-ubyte.gz\n",
            "4423680/4422102 [==============================] - 4s 1us/step\n"
          ],
          "name": "stdout"
        }
      ]
    },
    {
      "cell_type": "code",
      "metadata": {
        "id": "AW61jkyEBHd3",
        "colab_type": "code",
        "colab": {}
      },
      "source": [
        "# prepare data\n",
        "X_train = np.reshape(X_train,(48000,28*28))\n",
        "X_test = np.reshape(X_test,(10000,28*28))\n",
        "X_val = np.reshape(X_val,(12000,28*28))\n"
      ],
      "execution_count": 0,
      "outputs": []
    },
    {
      "cell_type": "markdown",
      "metadata": {
        "id": "PeL3gV_l7you",
        "colab_type": "text"
      },
      "source": [
        "### Visualize ( Optional )"
      ]
    },
    {
      "cell_type": "code",
      "metadata": {
        "id": "MpW5wWvL9zqj",
        "colab_type": "code",
        "outputId": "6bba3e05-3536-40d0-8096-dd3c55025754",
        "colab": {
          "base_uri": "https://localhost:8080/",
          "height": 85
        }
      },
      "source": [
        "print(X_train.shape)\n",
        "print(y_train.shape)\n",
        "print(X_test.shape)\n",
        "print(y_test.shape)\n"
      ],
      "execution_count": 0,
      "outputs": [
        {
          "output_type": "stream",
          "text": [
            "(48000, 28, 28)\n",
            "(48000,)\n",
            "(10000, 28, 28)\n",
            "(10000,)\n"
          ],
          "name": "stdout"
        }
      ]
    },
    {
      "cell_type": "code",
      "metadata": {
        "id": "J1ekRe1GTE2F",
        "colab_type": "code",
        "outputId": "7e8df265-1fb7-43b0-aa50-07905cb6e60b",
        "colab": {
          "base_uri": "https://localhost:8080/",
          "height": 51
        }
      },
      "source": [
        "np.unique(y_train, return_counts=True)"
      ],
      "execution_count": 0,
      "outputs": [
        {
          "output_type": "execute_result",
          "data": {
            "text/plain": [
              "(array([0, 1, 2, 3, 4, 5, 6, 7, 8, 9], dtype=uint8),\n",
              " array([4816, 4813, 4794, 4775, 4783, 4780, 4814, 4844, 4792, 4789]))"
            ]
          },
          "metadata": {
            "tags": []
          },
          "execution_count": 4
        }
      ]
    },
    {
      "cell_type": "code",
      "metadata": {
        "id": "naG04stG-EZM",
        "colab_type": "code",
        "outputId": "8050a05b-01b3-4237-d7a4-4740fa357ca8",
        "colab": {
          "base_uri": "https://localhost:8080/",
          "height": 761
        }
      },
      "source": [
        "import matplotlib as mpl\n",
        "import matplotlib.pyplot as plt\n",
        " \n",
        "plt.imshow(X_train[0],cmap='gray', vmin=0, vmax=255 )\n",
        "plt.show()\n",
        "plt.imshow(X_train[1],cmap='gray', vmin=0, vmax=255 )\n",
        "plt.show()\n",
        "plt.imshow(X_train[2],cmap='gray', vmin=0, vmax=255 )\n",
        "plt.show()\n",
        " "
      ],
      "execution_count": 0,
      "outputs": [
        {
          "output_type": "display_data",
          "data": {
            "image/png": "[encoded data removed]",
            "text/plain": [
              "<Figure size 432x288 with 1 Axes>"
            ]
          },
          "metadata": {
            "tags": []
          }
        },
        {
          "output_type": "display_data",
          "data": {
            "image/png": "[encoded data removed]",
            "text/plain": [
              "<Figure size 432x288 with 1 Axes>"
            ]
          },
          "metadata": {
            "tags": []
          }
        },
        {
          "output_type": "display_data",
          "data": {
            "image/png": "[encoded data removed]",
            "text/plain": [
              "<Figure size 432x288 with 1 Axes>"
            ]
          },
          "metadata": {
            "tags": []
          }
        }
      ]
    },
    {
      "cell_type": "markdown",
      "metadata": {
        "id": "QwFHfWIGA9vS",
        "colab_type": "text"
      },
      "source": [
        "# **MNIST Naive Bayes**"
      ]
    },
    {
      "cell_type": "code",
      "metadata": {
        "id": "IETpz3Q4CYjA",
        "colab_type": "code",
        "outputId": "f06c331e-11e6-4fe2-cce3-ff578f287705",
        "colab": {
          "base_uri": "https://localhost:8080/",
          "height": 411
        }
      },
      "source": [
        "import sklearn.naive_bayes as nb \n",
        "\n",
        "NB_scores = {}\n",
        "\n",
        "name_model_map = {\n",
        "    'GaussianNB':nb.GaussianNB(),\n",
        "    'MultinomialNB':nb.MultinomialNB(),\n",
        "    'ComplementNB':nb.ComplementNB(),\n",
        "    'BernoulliNB' :nb.BernoulliNB(), \n",
        "    }\n",
        "\n",
        "for key,model in name_model_map.items():\n",
        "    result_model = model.fit(X_train, y_train) \n",
        "    train_score = model.score(X_train,y_train)\n",
        "    val_score  = model.score(X_val, y_val)\n",
        "    y_train_pred = result_model.predict(X_train)\n",
        "    y_val_pred  = result_model.predict(X_val)\n",
        "    \n",
        "\n",
        "    precision_train, recall_train, f1_train, non = precision_recall_fscore_support(y_train, y_train_pred, average='weighted')\n",
        "    precision_val , recall_val , f1_val , non = precision_recall_fscore_support(y_val, y_val_pred, average='weighted')\n",
        "    print('----------- '+key+' --------------')\n",
        "    print(\"train score: \", train_score)\n",
        "    print(\"train f1   : \", f1_train)\n",
        "    print(\"val socre:  \", val_score)\n",
        "    print(\"val f1   :  \", f1_val)\n",
        "\n",
        "    # save model performence into dict\n",
        "    NB_scores[key] = (train_score, val_score, f1_train, f1_val)\n",
        "\n",
        "# transform disc to pd dataframe for easy plot later\n",
        "NB_scores = pd.DataFrame.from_dict(NB_scores, orient='index', columns=['train_score','val_score', 'train_f1','val_f1'])"
      ],
      "execution_count": 0,
      "outputs": [
        {
          "output_type": "stream",
          "text": [
            "----------- GaussianNB --------------\n",
            "train score:  0.6179583333333334\n",
            "train f1   :  0.5897532136574457\n",
            "val socre:   0.6085833333333334\n",
            "val f1   :   0.5810660269871485\n",
            "----------- MultinomialNB --------------\n",
            "train score:  0.6671875\n",
            "train f1   :  0.638772942184718\n",
            "val socre:   0.6629166666666667\n",
            "val f1   :   0.6351465798187856\n"
          ],
          "name": "stdout"
        },
        {
          "output_type": "stream",
          "text": [
            "/usr/local/lib/python3.6/dist-packages/sklearn/metrics/classification.py:1437: UndefinedMetricWarning: Precision and F-score are ill-defined and being set to 0.0 in labels with no predicted samples.\n",
            "  'precision', 'predicted', average, warn_for)\n"
          ],
          "name": "stderr"
        },
        {
          "output_type": "stream",
          "text": [
            "----------- ComplementNB --------------\n",
            "train score:  0.6100625\n",
            "train f1   :  0.5399245384571285\n",
            "val socre:   0.6056666666666667\n",
            "val f1   :   0.5354449821161681\n",
            "----------- BernoulliNB --------------\n",
            "train score:  0.7167291666666666\n",
            "train f1   :  0.7059827396893382\n",
            "val socre:   0.7129166666666666\n",
            "val f1   :   0.7027046973660382\n"
          ],
          "name": "stdout"
        }
      ]
    },
    {
      "cell_type": "markdown",
      "metadata": {
        "id": "L8EAWXejIOOL",
        "colab_type": "text"
      },
      "source": [
        "# **MNIST SVM**"
      ]
    },
    {
      "cell_type": "code",
      "metadata": {
        "id": "DNA68ejU7aBC",
        "colab_type": "code",
        "colab": {}
      },
      "source": [
        "iteration = 1\n",
        "# prepare data\n",
        "X_train = X_train / 255\n",
        "X_test = X_test/ 255\n",
        "X_val = X_val/ 255"
      ],
      "execution_count": 0,
      "outputs": []
    },
    {
      "cell_type": "code",
      "metadata": {
        "id": "pwd5-smVbu26",
        "colab_type": "code",
        "colab": {
          "base_uri": "https://localhost:8080/",
          "height": 122
        },
        "outputId": "b6921863-4f8f-4111-8c4c-8c3cfe00d5b8"
      },
      "source": [
        "start = time.time()\n",
        "from sklearn.svm import SVC\n",
        "model = SVC(C=1, kernel='linear', gamma='auto',max_iter = iteration)\n",
        "result_model = model.fit(X_train, y_train)\n",
        "end = time.time()\n",
        "\n",
        "print(\"model fitting time:\", end-start)\n",
        "\n",
        "print('################################################')\n",
        "\n",
        "start = time.time()\n",
        "train_score = model.score(X_train,y_train)\n",
        "val_score  = model.score(X_val, y_val)\n",
        "y_train_pred = result_model.predict(X_train)\n",
        "y_val_pred  = result_model.predict(X_val)\n",
        "end = time.time()\n",
        "print(\"model evaluate time:\", end-start)\n"
      ],
      "execution_count": 5,
      "outputs": [
        {
          "output_type": "stream",
          "text": [
            "/usr/local/lib/python3.6/dist-packages/sklearn/svm/base.py:241: ConvergenceWarning: Solver terminated early (max_iter=1).  Consider pre-processing your data with StandardScaler or MinMaxScaler.\n",
            "  % self.max_iter, ConvergenceWarning)\n"
          ],
          "name": "stderr"
        },
        {
          "output_type": "stream",
          "text": [
            "model fitting time: 1.9782111644744873\n",
            "################################################\n",
            "model evaluate time: 7.2839674949646\n"
          ],
          "name": "stdout"
        }
      ]
    },
    {
      "cell_type": "code",
      "metadata": {
        "id": "CXT803-8Dc-k",
        "colab_type": "code",
        "colab": {
          "base_uri": "https://localhost:8080/",
          "height": 375
        },
        "outputId": "976faf7a-38f1-4e8f-fb99-75c912bc83e9"
      },
      "source": [
        "start = time.time()\n",
        "from sklearn.svm import SVC\n",
        "\n",
        "SVC_scores = []\n",
        "\n",
        "SVC_kernels = ['linear', 'poly', 'rbf' ]\n",
        "C_values = [0.001, 0.01, 0.1, 1, 10, 100 ]\n",
        "\n",
        "for kernel in SVC_kernels:\n",
        "    for c in C_values:\n",
        "        model = SVC(C=c, kernel=kernel, gamma='auto',max_iter = iteration)\n",
        "        result_model = model.fit(X_train, y_train) \n",
        "        train_score = model.score(X_train,y_train)\n",
        "        val_score  = model.score(X_val, y_val)\n",
        "        y_train_pred = result_model.predict(X_train)\n",
        "        y_val_pred  = result_model.predict(X_val) \n",
        "\n",
        "        # precision, recall, f1 score\n",
        "        precision_train, recall_train, f1_train, non = precision_recall_fscore_support(y_train, y_train_pred, average='weighted')\n",
        "        precision_val , recall_val , f1_val , non = precision_recall_fscore_support(y_val, y_val_pred, average='weighted')\n",
        "        print('----------- '+kernel+\" C=\" + str(c)+' --------------')\n",
        "        print(\"train score: \", train_score)\n",
        "        print(\"train f1   : \", f1_train)\n",
        "        print(\"val socre:  \", val_score)\n",
        "        print(\"val f1   :  \", f1_val)\n",
        "        \n",
        "        # save model performence into dict\n",
        "        SVC_scores.append([kernel,c, train_score, val_score, f1_train, f1_val])\n",
        "\n",
        "\n",
        "# transform disc to pd dataframe for easy plot later\n",
        "SVC_scores = pd.DataFrame(SVC_scores, columns=['kernel','C','train_score','val_score', 'train_f1','val_f1'])\n",
        "\n",
        "end = time.time()\n",
        "\n",
        "print(end-start)"
      ],
      "execution_count": 7,
      "outputs": [
        {
          "output_type": "error",
          "ename": "KeyboardInterrupt",
          "evalue": "ignored",
          "traceback": [
            "\u001b[0;31m---------------------------------------------------------------------------\u001b[0m",
            "\u001b[0;31mKeyboardInterrupt\u001b[0m                         Traceback (most recent call last)",
            "\u001b[0;32m<ipython-input-7-b9d9e4f249f4>\u001b[0m in \u001b[0;36m<module>\u001b[0;34m()\u001b[0m\n\u001b[1;32m     10\u001b[0m     \u001b[0;32mfor\u001b[0m \u001b[0mc\u001b[0m \u001b[0;32min\u001b[0m \u001b[0mC_values\u001b[0m\u001b[0;34m:\u001b[0m\u001b[0;34m\u001b[0m\u001b[0;34m\u001b[0m\u001b[0m\n\u001b[1;32m     11\u001b[0m         \u001b[0mmodel\u001b[0m \u001b[0;34m=\u001b[0m \u001b[0mSVC\u001b[0m\u001b[0;34m(\u001b[0m\u001b[0mC\u001b[0m\u001b[0;34m=\u001b[0m\u001b[0mc\u001b[0m\u001b[0;34m,\u001b[0m \u001b[0mkernel\u001b[0m\u001b[0;34m=\u001b[0m\u001b[0mkernel\u001b[0m\u001b[0;34m,\u001b[0m \u001b[0mgamma\u001b[0m\u001b[0;34m=\u001b[0m\u001b[0;34m'auto'\u001b[0m\u001b[0;34m,\u001b[0m\u001b[0mmax_iter\u001b[0m \u001b[0;34m=\u001b[0m \u001b[0miteration\u001b[0m\u001b[0;34m)\u001b[0m\u001b[0;34m\u001b[0m\u001b[0;34m\u001b[0m\u001b[0m\n\u001b[0;32m---> 12\u001b[0;31m         \u001b[0mresult_model\u001b[0m \u001b[0;34m=\u001b[0m \u001b[0mmodel\u001b[0m\u001b[0;34m.\u001b[0m\u001b[0mfit\u001b[0m\u001b[0;34m(\u001b[0m\u001b[0mX_train\u001b[0m\u001b[0;34m,\u001b[0m \u001b[0my_train\u001b[0m\u001b[0;34m)\u001b[0m\u001b[0;34m\u001b[0m\u001b[0;34m\u001b[0m\u001b[0m\n\u001b[0m\u001b[1;32m     13\u001b[0m         \u001b[0mtrain_score\u001b[0m \u001b[0;34m=\u001b[0m \u001b[0mmodel\u001b[0m\u001b[0;34m.\u001b[0m\u001b[0mscore\u001b[0m\u001b[0;34m(\u001b[0m\u001b[0mX_train\u001b[0m\u001b[0;34m,\u001b[0m\u001b[0my_train\u001b[0m\u001b[0;34m)\u001b[0m\u001b[0;34m\u001b[0m\u001b[0;34m\u001b[0m\u001b[0m\n\u001b[1;32m     14\u001b[0m         \u001b[0mval_score\u001b[0m  \u001b[0;34m=\u001b[0m \u001b[0mmodel\u001b[0m\u001b[0;34m.\u001b[0m\u001b[0mscore\u001b[0m\u001b[0;34m(\u001b[0m\u001b[0mX_val\u001b[0m\u001b[0;34m,\u001b[0m \u001b[0my_val\u001b[0m\u001b[0;34m)\u001b[0m\u001b[0;34m\u001b[0m\u001b[0;34m\u001b[0m\u001b[0m\n",
            "\u001b[0;32m/usr/local/lib/python3.6/dist-packages/sklearn/svm/base.py\u001b[0m in \u001b[0;36mfit\u001b[0;34m(self, X, y, sample_weight)\u001b[0m\n\u001b[1;32m    207\u001b[0m \u001b[0;34m\u001b[0m\u001b[0m\n\u001b[1;32m    208\u001b[0m         \u001b[0mseed\u001b[0m \u001b[0;34m=\u001b[0m \u001b[0mrnd\u001b[0m\u001b[0;34m.\u001b[0m\u001b[0mrandint\u001b[0m\u001b[0;34m(\u001b[0m\u001b[0mnp\u001b[0m\u001b[0;34m.\u001b[0m\u001b[0miinfo\u001b[0m\u001b[0;34m(\u001b[0m\u001b[0;34m'i'\u001b[0m\u001b[0;34m)\u001b[0m\u001b[0;34m.\u001b[0m\u001b[0mmax\u001b[0m\u001b[0;34m)\u001b[0m\u001b[0;34m\u001b[0m\u001b[0;34m\u001b[0m\u001b[0m\n\u001b[0;32m--> 209\u001b[0;31m         \u001b[0mfit\u001b[0m\u001b[0;34m(\u001b[0m\u001b[0mX\u001b[0m\u001b[0;34m,\u001b[0m \u001b[0my\u001b[0m\u001b[0;34m,\u001b[0m \u001b[0msample_weight\u001b[0m\u001b[0;34m,\u001b[0m \u001b[0msolver_type\u001b[0m\u001b[0;34m,\u001b[0m \u001b[0mkernel\u001b[0m\u001b[0;34m,\u001b[0m \u001b[0mrandom_seed\u001b[0m\u001b[0;34m=\u001b[0m\u001b[0mseed\u001b[0m\u001b[0;34m)\u001b[0m\u001b[0;34m\u001b[0m\u001b[0;34m\u001b[0m\u001b[0m\n\u001b[0m\u001b[1;32m    210\u001b[0m         \u001b[0;31m# see comment on the other call to np.iinfo in this file\u001b[0m\u001b[0;34m\u001b[0m\u001b[0;34m\u001b[0m\u001b[0;34m\u001b[0m\u001b[0m\n\u001b[1;32m    211\u001b[0m \u001b[0;34m\u001b[0m\u001b[0m\n",
            "\u001b[0;32m/usr/local/lib/python3.6/dist-packages/sklearn/svm/base.py\u001b[0m in \u001b[0;36m_dense_fit\u001b[0;34m(self, X, y, sample_weight, solver_type, kernel, random_seed)\u001b[0m\n\u001b[1;32m    266\u001b[0m                 \u001b[0mcache_size\u001b[0m\u001b[0;34m=\u001b[0m\u001b[0mself\u001b[0m\u001b[0;34m.\u001b[0m\u001b[0mcache_size\u001b[0m\u001b[0;34m,\u001b[0m \u001b[0mcoef0\u001b[0m\u001b[0;34m=\u001b[0m\u001b[0mself\u001b[0m\u001b[0;34m.\u001b[0m\u001b[0mcoef0\u001b[0m\u001b[0;34m,\u001b[0m\u001b[0;34m\u001b[0m\u001b[0;34m\u001b[0m\u001b[0m\n\u001b[1;32m    267\u001b[0m                 \u001b[0mgamma\u001b[0m\u001b[0;34m=\u001b[0m\u001b[0mself\u001b[0m\u001b[0;34m.\u001b[0m\u001b[0m_gamma\u001b[0m\u001b[0;34m,\u001b[0m \u001b[0mepsilon\u001b[0m\u001b[0;34m=\u001b[0m\u001b[0mself\u001b[0m\u001b[0;34m.\u001b[0m\u001b[0mepsilon\u001b[0m\u001b[0;34m,\u001b[0m\u001b[0;34m\u001b[0m\u001b[0;34m\u001b[0m\u001b[0m\n\u001b[0;32m--> 268\u001b[0;31m                 max_iter=self.max_iter, random_seed=random_seed)\n\u001b[0m\u001b[1;32m    269\u001b[0m \u001b[0;34m\u001b[0m\u001b[0m\n\u001b[1;32m    270\u001b[0m         \u001b[0mself\u001b[0m\u001b[0;34m.\u001b[0m\u001b[0m_warn_from_fit_status\u001b[0m\u001b[0;34m(\u001b[0m\u001b[0;34m)\u001b[0m\u001b[0;34m\u001b[0m\u001b[0;34m\u001b[0m\u001b[0m\n",
            "\u001b[0;31mKeyboardInterrupt\u001b[0m: "
          ]
        }
      ]
    },
    {
      "cell_type": "code",
      "metadata": {
        "id": "4hrCOvsxPUyO",
        "colab_type": "code",
        "colab": {}
      },
      "source": [
        "SVC_scores"
      ],
      "execution_count": 0,
      "outputs": []
    },
    {
      "cell_type": "code",
      "metadata": {
        "id": "BjbZE5yMbWG7",
        "colab_type": "code",
        "colab": {}
      },
      "source": [
        ""
      ],
      "execution_count": 0,
      "outputs": []
    }
  ]
}